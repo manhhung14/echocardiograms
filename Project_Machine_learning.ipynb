{
  "nbformat": 4,
  "nbformat_minor": 0,
  "metadata": {
    "colab": {
      "name": "Untitled0.ipynb",
      "provenance": [],
      "authorship_tag": "ABX9TyMH0lPUX4tPHR0O4f/JNJi4",
      "include_colab_link": true
    },
    "kernelspec": {
      "name": "python3",
      "display_name": "Python 3"
    },
    "language_info": {
      "name": "python"
    },
    "accelerator": "GPU"
  },
  "cells": [
    {
      "cell_type": "markdown",
      "metadata": {
        "id": "view-in-github",
        "colab_type": "text"
      },
      "source": [
        "<a href=\"https://colab.research.google.com/github/manhhung14/echocardiograms/blob/main/Project_Machine_learning.ipynb\" target=\"_parent\"><img src=\"https://colab.research.google.com/assets/colab-badge.svg\" alt=\"Open In Colab\"/></a>"
      ]
    },
    {
      "cell_type": "markdown",
      "metadata": {
        "id": "T7xNknYpXANm"
      },
      "source": [
        "**Khởi tạo thư viện**"
      ]
    },
    {
      "cell_type": "code",
      "metadata": {
        "id": "yIcjmePpg7ov"
      },
      "source": [
        "import cv2\n",
        "import numpy as np\n",
        "from matplotlib import pyplot as plt\n",
        "\n",
        "import torchvision\n",
        "from torchvision import transforms\n",
        "from torchvision.datasets import ImageFolder\n",
        "\n",
        "from collections import namedtuple\n",
        "from sklearn.metrics import classification_report\n",
        "\n",
        "import torch\n",
        "from torch import nn\n",
        "from torch.utils.data import DataLoader\n"
      ],
      "execution_count": 9,
      "outputs": []
    },
    {
      "cell_type": "markdown",
      "metadata": {
        "id": "BmA9jhQ5Wzs8"
      },
      "source": [
        "**Lấy dữ liệu**"
      ]
    },
    {
      "cell_type": "code",
      "metadata": {
        "colab": {
          "base_uri": "https://localhost:8080/"
        },
        "id": "vHs1MKuLhLXb",
        "outputId": "cdeebd89-9f09-4320-95f4-c56a1550dcb6"
      },
      "source": [
        "!git clone https://github.com/manhhung14/echocardiograms\n",
        "traindir = \"/content/echocardiograms/DATA_CHAMBER_2021/train\"\n",
        "testdir = \"/content/echocardiograms/DATA_CHAMBER_2021/test\""
      ],
      "execution_count": 10,
      "outputs": [
        {
          "output_type": "stream",
          "name": "stdout",
          "text": [
            "fatal: destination path 'echocardiograms' already exists and is not an empty directory.\n"
          ]
        }
      ]
    },
    {
      "cell_type": "markdown",
      "metadata": {
        "id": "Pny082LFXN8H"
      },
      "source": [
        "**Chuẩn bị dữ liệu**"
      ]
    },
    {
      "cell_type": "code",
      "metadata": {
        "id": "nUdzNQPBhRAq"
      },
      "source": [
        "TrainTest = namedtuple('TrainTest', ['train', 'test'])\n",
        "\n",
        "def get_classes():\n",
        "  classes = ['2C', '3C', '4C']\n",
        "  return classes\n",
        "\n",
        "def raw_image(size):\n",
        "  transform_train = transforms.Compose([\n",
        "    transforms.Resize(size=(size,size)),\n",
        "    transforms.ToTensor()\n",
        "  ])\n",
        "  transform_test = transforms.Compose([\n",
        "    transforms.Resize(size=(size,size)), \n",
        "    transforms.ToTensor()\n",
        "  ])\n",
        "  return transform_train, transform_test\n",
        "\n",
        "def preprocess_image(size):\n",
        "  transform_train = transforms.Compose([\n",
        "    transforms.Resize(size=(size,size)),\n",
        "    transforms.CenterCrop(size=(size,size)),\n",
        "    transforms.ToTensor(),\n",
        "    transforms.Normalize((0.488, 0.478, 0.465), (0.211, 0.205, 0.199))\n",
        "  ])\n",
        "  transform_test = transforms.Compose([\n",
        "    transforms.Resize(size=(size,size)), \n",
        "    transforms.ToTensor()\n",
        "  ])\n",
        "  return transform_train, transform_test\n",
        "\n",
        "def augmentation_image(size):\n",
        "  transform_train = transforms.Compose([\n",
        "    transforms.Resize(size=(size,size)),\n",
        "    transforms.RandomCrop(size=(size,size), padding=4,),\n",
        "    transforms.RandomHorizontalFlip(),\n",
        "    transforms.RandomVerticalFlip(),\n",
        "    transforms.ColorJitter(brightness=0.2, contrast=0.2, saturation=0.2, hue=0.2),\n",
        "    transforms.ToTensor()\n",
        "  ])\n",
        "  transform_test = transforms.Compose([\n",
        "    transforms.Resize(size=(size,size)), \n",
        "    transforms.ToTensor()\n",
        "  ])\n",
        "  return transform_train, transform_test\n",
        "\n",
        "def prepare_data(size):\n",
        "  transform_train, transform_test = raw_image(size)\n",
        "  # transform_train, transform_test = preprocess_image(size)\n",
        "  # transform_train, transform_test = augmentation_image(size)\n",
        "  trainset = torchvision.datasets.ImageFolder(root=traindir, transform=transform_train)\n",
        "  testset = torchvision.datasets.ImageFolder(root=testdir, transform=transform_test)\n",
        "  return TrainTest(train=trainset, test=testset)\n",
        "\n",
        "def prepare_loader(datasets):\n",
        "  trainloader = DataLoader(dataset=datasets.train, batch_size=32, shuffle=True, num_workers=4)\n",
        "  testloader = DataLoader(dataset=datasets.test, batch_size=32, shuffle=False, num_workers=4)\n",
        "  return TrainTest(train=trainloader, test=testloader)\n",
        "\n"
      ],
      "execution_count": 11,
      "outputs": []
    },
    {
      "cell_type": "markdown",
      "metadata": {
        "id": "NzuDKJrVXRMR"
      },
      "source": [
        "**Train & Test**"
      ]
    },
    {
      "cell_type": "code",
      "metadata": {
        "id": "8s-lzzfTr2pm"
      },
      "source": [
        "def train_epoch(epoch, model, loader, loss_func, optimizer, device):\n",
        "  model.train()\n",
        "  running_loss = 0.0\n",
        "  final_loss = 0.0\n",
        "  reporting_steps = 40\n",
        "  step = 0\n",
        "  for images, labels in loader:\n",
        "    step += 1\n",
        "    images, labels = images.to(device), labels.to(device)\n",
        "    outputs = model(images)\n",
        "    loss = loss_func(outputs, labels)\n",
        "\n",
        "    optimizer.zero_grad()\n",
        "    loss.backward()\n",
        "    optimizer.step()\n",
        "\n",
        "    final_loss = loss.item()\n",
        "    running_loss += final_loss\n",
        "    if step % reporting_steps == reporting_steps - 1:\n",
        "      print(f\"Epoch {epoch} step {step} ave_loss {running_loss/reporting_steps:.4f}\")\n",
        "      running_loss = 0.0\n",
        "  return final_loss\n",
        "\n",
        "def test_epoch(epoch, model, loader, device):\n",
        "  ytrue = []\n",
        "  ypred = []\n",
        "  with torch.no_grad():\n",
        "    model.eval()\n",
        "    for images, labels in loader:\n",
        "      images, labels = images.to(device), labels.to(device)\n",
        "      outputs = model(images)\n",
        "      _, predicted = torch.max(outputs, dim=1)\n",
        "      ytrue += list(labels.cpu().numpy())\n",
        "      ypred += list(predicted.cpu().numpy())\n",
        "\n",
        "  return ypred, ytrue\n"
      ],
      "execution_count": 12,
      "outputs": []
    },
    {
      "cell_type": "markdown",
      "metadata": {
        "id": "rG6-HBgXXaHN"
      },
      "source": [
        "**Thực thi**"
      ]
    },
    {
      "cell_type": "code",
      "metadata": {
        "id": "X7INPZlyr__3"
      },
      "source": [
        "def main(model_in, size):\n",
        "  PATH = \"./\" + model_in + '.pth'\n",
        "  classes = get_classes()\n",
        "  class_out = len(classes)\n",
        "\n",
        "  transforms_train, transforms_test = raw_image(size)\n",
        "  #transforms_train, transforms_test = preprocess_image(size)\n",
        "  #transforms_train, transforms_test = augmentation_image(size)\n",
        "  datasets = prepare_data(size=size)\n",
        "  loaders = prepare_loader(datasets)\n",
        "  device = torch.device(\"cuda\" if torch.cuda.is_available() else \"cpu\")\n",
        "\n",
        "  print(\"image size: \", datasets.train[0][0].shape)\n",
        "  print(\"device:\", device)\n",
        "  print(\"model:\", model_in)\n",
        "\n",
        "  if model_in == 'vgg16':  \n",
        "    model = torchvision.models.vgg16(pretrained=False)\n",
        "    model.classifier[6] = torch.nn.modules.linear.Linear(in_features=4096, out_features=class_out, bias=True)\n",
        "  elif model_in == 'resnet50':\n",
        "    model = torchvision.models.resnet50(pretrained=False)\n",
        "    model.fc = torch.nn.modules.linear.Linear(in_features=2048, out_features=class_out, bias=True) \n",
        "  elif model_in == 'resnet18':\n",
        "    model = torchvision.models.resnet18(pretrained=False)\n",
        "    model.fc = torch.nn.modules.linear.Linear(in_features=512, out_features=class_out, bias=True) \n",
        "  elif model_in == 'densenet121': \n",
        "    model = torchvision.models.densenet121(pretrained=False)\n",
        "    model.classifier = torch.nn.modules.linear.Linear(in_features=1024, out_features=class_out, bias=True)\n",
        "  else:\n",
        "    pass\n",
        "    \n",
        "  model.to(device)\n",
        "  loss_func = nn.CrossEntropyLoss()\n",
        "  optimizer = torch.optim.SGD(model.parameters(), lr=0.01, momentum=0.9, weight_decay=5e-4)\n",
        "\n",
        "  accuracies = []\n",
        "  losses = []\n",
        "  for epoch in range(8):\n",
        "    print(\"---------------------------------------------------------------\")\n",
        "    loss = train_epoch(epoch, model, loaders.train, loss_func, optimizer, device)\n",
        "    ypred_test, ytrue_test = test_epoch(epoch, model, loaders.test, device)\n",
        "\n",
        "    print(classification_report(ytrue_test, ypred_test, target_names=classes))\n",
        "    torch.save(model.state_dict(), PATH)\n",
        "\n",
        "    # calculate report\n",
        "    ypred_test = np.array(ypred_test)\n",
        "    ytrue_test = np.array(ytrue_test)\n",
        "    accuracy = int((ytrue_test==ypred_test).sum() / len(ytrue_test) *100)\n",
        "    accuracies.append(accuracy)\n",
        "    losses.append(round(loss, 4))\n",
        "\n",
        "    \n",
        "  print(\"model:\", model_in, \", size:\", size)\n",
        "  print(\"accr: \", accuracies)\n",
        "  print(\"loss: \", losses)\n",
        "  return model"
      ],
      "execution_count": 13,
      "outputs": []
    },
    {
      "cell_type": "code",
      "metadata": {
        "colab": {
          "base_uri": "https://localhost:8080/",
          "height": 1000
        },
        "id": "wdIP60kF9-pr",
        "outputId": "edbaf5ef-27cb-450b-b465-1fd39f520629"
      },
      "source": [
        "model1 = main('vgg16', 224)\n",
        "model2 = main('vgg16', 64)\n",
        "model3 = main('vgg16', 32)\n",
        "\n"
      ],
      "execution_count": 14,
      "outputs": [
        {
          "output_type": "stream",
          "name": "stderr",
          "text": [
            "/usr/local/lib/python3.7/dist-packages/torch/utils/data/dataloader.py:481: UserWarning: This DataLoader will create 4 worker processes in total. Our suggested max number of worker in current system is 2, which is smaller than what this DataLoader is going to create. Please be aware that excessive worker creation might get DataLoader running slow or even freeze, lower the worker number to avoid potential slowness/freeze if necessary.\n",
            "  cpuset_checked))\n"
          ]
        },
        {
          "output_type": "stream",
          "name": "stdout",
          "text": [
            "image size:  torch.Size([3, 224, 224])\n",
            "device: cuda\n",
            "model: vgg16\n",
            "---------------------------------------------------------------\n",
            "Epoch 0 step 39 ave_loss 1.0554\n",
            "Epoch 0 step 79 ave_loss 1.1069\n",
            "Epoch 0 step 119 ave_loss 0.8729\n",
            "Epoch 0 step 159 ave_loss 0.5416\n",
            "Epoch 0 step 199 ave_loss 0.4311\n",
            "              precision    recall  f1-score   support\n",
            "\n",
            "          2C       0.44      0.77      0.56       409\n",
            "          3C       0.78      0.92      0.84       367\n",
            "          4C       1.00      0.56      0.72       831\n",
            "\n",
            "    accuracy                           0.70      1607\n",
            "   macro avg       0.74      0.75      0.71      1607\n",
            "weighted avg       0.81      0.70      0.71      1607\n",
            "\n",
            "---------------------------------------------------------------\n"
          ]
        },
        {
          "output_type": "stream",
          "name": "stderr",
          "text": [
            "/usr/local/lib/python3.7/dist-packages/torch/utils/data/dataloader.py:481: UserWarning: This DataLoader will create 4 worker processes in total. Our suggested max number of worker in current system is 2, which is smaller than what this DataLoader is going to create. Please be aware that excessive worker creation might get DataLoader running slow or even freeze, lower the worker number to avoid potential slowness/freeze if necessary.\n",
            "  cpuset_checked))\n"
          ]
        },
        {
          "output_type": "stream",
          "name": "stdout",
          "text": [
            "Epoch 1 step 39 ave_loss 0.2130\n",
            "Epoch 1 step 79 ave_loss 0.1963\n",
            "Epoch 1 step 119 ave_loss 0.1457\n",
            "Epoch 1 step 159 ave_loss 0.2121\n",
            "Epoch 1 step 199 ave_loss 0.0868\n",
            "              precision    recall  f1-score   support\n",
            "\n",
            "          2C       0.63      0.88      0.73       409\n",
            "          3C       0.68      0.94      0.79       367\n",
            "          4C       1.00      0.64      0.78       831\n",
            "\n",
            "    accuracy                           0.77      1607\n",
            "   macro avg       0.77      0.82      0.77      1607\n",
            "weighted avg       0.83      0.77      0.77      1607\n",
            "\n",
            "---------------------------------------------------------------\n"
          ]
        },
        {
          "output_type": "stream",
          "name": "stderr",
          "text": [
            "/usr/local/lib/python3.7/dist-packages/torch/utils/data/dataloader.py:481: UserWarning: This DataLoader will create 4 worker processes in total. Our suggested max number of worker in current system is 2, which is smaller than what this DataLoader is going to create. Please be aware that excessive worker creation might get DataLoader running slow or even freeze, lower the worker number to avoid potential slowness/freeze if necessary.\n",
            "  cpuset_checked))\n"
          ]
        },
        {
          "output_type": "stream",
          "name": "stdout",
          "text": [
            "Epoch 2 step 39 ave_loss 0.0436\n",
            "Epoch 2 step 79 ave_loss 0.0705\n",
            "Epoch 2 step 119 ave_loss 0.0325\n",
            "Epoch 2 step 159 ave_loss 0.0482\n",
            "Epoch 2 step 199 ave_loss 0.0271\n",
            "              precision    recall  f1-score   support\n",
            "\n",
            "          2C       0.91      0.96      0.94       409\n",
            "          3C       0.96      0.90      0.93       367\n",
            "          4C       1.00      1.00      1.00       831\n",
            "\n",
            "    accuracy                           0.97      1607\n",
            "   macro avg       0.96      0.95      0.95      1607\n",
            "weighted avg       0.97      0.97      0.97      1607\n",
            "\n",
            "---------------------------------------------------------------\n"
          ]
        },
        {
          "output_type": "stream",
          "name": "stderr",
          "text": [
            "/usr/local/lib/python3.7/dist-packages/torch/utils/data/dataloader.py:481: UserWarning: This DataLoader will create 4 worker processes in total. Our suggested max number of worker in current system is 2, which is smaller than what this DataLoader is going to create. Please be aware that excessive worker creation might get DataLoader running slow or even freeze, lower the worker number to avoid potential slowness/freeze if necessary.\n",
            "  cpuset_checked))\n"
          ]
        },
        {
          "output_type": "stream",
          "name": "stdout",
          "text": [
            "Epoch 3 step 39 ave_loss 0.0230\n",
            "Epoch 3 step 79 ave_loss 0.0299\n",
            "Epoch 3 step 119 ave_loss 0.0043\n",
            "Epoch 3 step 159 ave_loss 0.0011\n",
            "Epoch 3 step 199 ave_loss 0.0009\n",
            "              precision    recall  f1-score   support\n",
            "\n",
            "          2C       0.95      0.98      0.96       409\n",
            "          3C       0.91      0.95      0.93       367\n",
            "          4C       1.00      0.96      0.98       831\n",
            "\n",
            "    accuracy                           0.96      1607\n",
            "   macro avg       0.95      0.96      0.96      1607\n",
            "weighted avg       0.97      0.96      0.96      1607\n",
            "\n",
            "---------------------------------------------------------------\n"
          ]
        },
        {
          "output_type": "stream",
          "name": "stderr",
          "text": [
            "/usr/local/lib/python3.7/dist-packages/torch/utils/data/dataloader.py:481: UserWarning: This DataLoader will create 4 worker processes in total. Our suggested max number of worker in current system is 2, which is smaller than what this DataLoader is going to create. Please be aware that excessive worker creation might get DataLoader running slow or even freeze, lower the worker number to avoid potential slowness/freeze if necessary.\n",
            "  cpuset_checked))\n"
          ]
        },
        {
          "output_type": "stream",
          "name": "stdout",
          "text": [
            "Epoch 4 step 39 ave_loss 0.0000\n",
            "Epoch 4 step 79 ave_loss 0.0008\n",
            "Epoch 4 step 119 ave_loss 0.0002\n",
            "Epoch 4 step 159 ave_loss 0.0001\n",
            "Epoch 4 step 199 ave_loss 0.0001\n",
            "              precision    recall  f1-score   support\n",
            "\n",
            "          2C       0.96      0.91      0.93       409\n",
            "          3C       0.75      0.96      0.84       367\n",
            "          4C       1.00      0.90      0.95       831\n",
            "\n",
            "    accuracy                           0.92      1607\n",
            "   macro avg       0.90      0.92      0.91      1607\n",
            "weighted avg       0.93      0.92      0.92      1607\n",
            "\n",
            "---------------------------------------------------------------\n"
          ]
        },
        {
          "output_type": "stream",
          "name": "stderr",
          "text": [
            "/usr/local/lib/python3.7/dist-packages/torch/utils/data/dataloader.py:481: UserWarning: This DataLoader will create 4 worker processes in total. Our suggested max number of worker in current system is 2, which is smaller than what this DataLoader is going to create. Please be aware that excessive worker creation might get DataLoader running slow or even freeze, lower the worker number to avoid potential slowness/freeze if necessary.\n",
            "  cpuset_checked))\n"
          ]
        },
        {
          "output_type": "stream",
          "name": "stdout",
          "text": [
            "Epoch 5 step 39 ave_loss 0.0000\n",
            "Epoch 5 step 79 ave_loss 0.0000\n",
            "Epoch 5 step 119 ave_loss 0.0057\n",
            "Epoch 5 step 159 ave_loss 0.0421\n",
            "Epoch 5 step 199 ave_loss 0.0042\n",
            "              precision    recall  f1-score   support\n",
            "\n",
            "          2C       0.97      0.87      0.92       409\n",
            "          3C       0.85      0.98      0.91       367\n",
            "          4C       1.00      0.98      0.99       831\n",
            "\n",
            "    accuracy                           0.95      1607\n",
            "   macro avg       0.94      0.94      0.94      1607\n",
            "weighted avg       0.96      0.95      0.95      1607\n",
            "\n",
            "---------------------------------------------------------------\n"
          ]
        },
        {
          "output_type": "stream",
          "name": "stderr",
          "text": [
            "/usr/local/lib/python3.7/dist-packages/torch/utils/data/dataloader.py:481: UserWarning: This DataLoader will create 4 worker processes in total. Our suggested max number of worker in current system is 2, which is smaller than what this DataLoader is going to create. Please be aware that excessive worker creation might get DataLoader running slow or even freeze, lower the worker number to avoid potential slowness/freeze if necessary.\n",
            "  cpuset_checked))\n"
          ]
        },
        {
          "output_type": "stream",
          "name": "stdout",
          "text": [
            "Epoch 6 step 39 ave_loss 0.0056\n",
            "Epoch 6 step 79 ave_loss 0.0046\n",
            "Epoch 6 step 119 ave_loss 0.0234\n",
            "Epoch 6 step 159 ave_loss 0.0430\n",
            "Epoch 6 step 199 ave_loss 0.0118\n",
            "              precision    recall  f1-score   support\n",
            "\n",
            "          2C       0.90      0.90      0.90       409\n",
            "          3C       0.74      1.00      0.85       367\n",
            "          4C       1.00      0.85      0.92       831\n",
            "\n",
            "    accuracy                           0.90      1607\n",
            "   macro avg       0.88      0.92      0.89      1607\n",
            "weighted avg       0.92      0.90      0.90      1607\n",
            "\n",
            "---------------------------------------------------------------\n"
          ]
        },
        {
          "output_type": "stream",
          "name": "stderr",
          "text": [
            "/usr/local/lib/python3.7/dist-packages/torch/utils/data/dataloader.py:481: UserWarning: This DataLoader will create 4 worker processes in total. Our suggested max number of worker in current system is 2, which is smaller than what this DataLoader is going to create. Please be aware that excessive worker creation might get DataLoader running slow or even freeze, lower the worker number to avoid potential slowness/freeze if necessary.\n",
            "  cpuset_checked))\n"
          ]
        },
        {
          "output_type": "stream",
          "name": "stdout",
          "text": [
            "Epoch 7 step 39 ave_loss 0.0134\n",
            "Epoch 7 step 79 ave_loss 0.0016\n",
            "Epoch 7 step 119 ave_loss 0.0010\n",
            "Epoch 7 step 159 ave_loss 0.0029\n",
            "Epoch 7 step 199 ave_loss 0.0266\n",
            "              precision    recall  f1-score   support\n",
            "\n",
            "          2C       0.72      0.81      0.76       409\n",
            "          3C       0.66      1.00      0.80       367\n",
            "          4C       1.00      0.70      0.83       831\n",
            "\n",
            "    accuracy                           0.80      1607\n",
            "   macro avg       0.79      0.84      0.79      1607\n",
            "weighted avg       0.85      0.80      0.80      1607\n",
            "\n",
            "model: vgg16 , size: 224\n",
            "accr:  [69, 76, 96, 96, 91, 95, 89, 79]\n",
            "loss:  [0.0721, 0.073, 0.1405, 0.0, 0.0, 0.0004, 0.0005, 0.0008]\n",
            "image size:  torch.Size([3, 64, 64])\n",
            "device: cuda\n",
            "model: vgg16\n"
          ]
        },
        {
          "output_type": "stream",
          "name": "stderr",
          "text": [
            "/usr/local/lib/python3.7/dist-packages/torch/utils/data/dataloader.py:481: UserWarning: This DataLoader will create 4 worker processes in total. Our suggested max number of worker in current system is 2, which is smaller than what this DataLoader is going to create. Please be aware that excessive worker creation might get DataLoader running slow or even freeze, lower the worker number to avoid potential slowness/freeze if necessary.\n",
            "  cpuset_checked))\n"
          ]
        },
        {
          "output_type": "stream",
          "name": "stdout",
          "text": [
            "---------------------------------------------------------------\n",
            "Epoch 0 step 39 ave_loss 1.0686\n",
            "Epoch 0 step 79 ave_loss 1.0747\n",
            "Epoch 0 step 119 ave_loss 1.0265\n",
            "Epoch 0 step 159 ave_loss 0.6393\n",
            "Epoch 0 step 199 ave_loss 0.4175\n",
            "              precision    recall  f1-score   support\n",
            "\n",
            "          2C       0.61      0.99      0.76       409\n",
            "          3C       0.99      0.74      0.85       367\n",
            "          4C       0.99      0.80      0.89       831\n",
            "\n",
            "    accuracy                           0.84      1607\n",
            "   macro avg       0.86      0.85      0.83      1607\n",
            "weighted avg       0.90      0.84      0.85      1607\n",
            "\n",
            "---------------------------------------------------------------\n"
          ]
        },
        {
          "output_type": "stream",
          "name": "stderr",
          "text": [
            "/usr/local/lib/python3.7/dist-packages/torch/utils/data/dataloader.py:481: UserWarning: This DataLoader will create 4 worker processes in total. Our suggested max number of worker in current system is 2, which is smaller than what this DataLoader is going to create. Please be aware that excessive worker creation might get DataLoader running slow or even freeze, lower the worker number to avoid potential slowness/freeze if necessary.\n",
            "  cpuset_checked))\n"
          ]
        },
        {
          "output_type": "stream",
          "name": "stdout",
          "text": [
            "Epoch 1 step 39 ave_loss 0.2419\n",
            "Epoch 1 step 79 ave_loss 0.1398\n",
            "Epoch 1 step 119 ave_loss 0.1780\n",
            "Epoch 1 step 159 ave_loss 0.1177\n",
            "Epoch 1 step 199 ave_loss 0.0795\n",
            "              precision    recall  f1-score   support\n",
            "\n",
            "          2C       0.53      0.83      0.65       409\n",
            "          3C       0.78      0.93      0.85       367\n",
            "          4C       1.00      0.65      0.79       831\n",
            "\n",
            "    accuracy                           0.76      1607\n",
            "   macro avg       0.77      0.80      0.76      1607\n",
            "weighted avg       0.83      0.76      0.77      1607\n",
            "\n",
            "---------------------------------------------------------------\n"
          ]
        },
        {
          "output_type": "stream",
          "name": "stderr",
          "text": [
            "/usr/local/lib/python3.7/dist-packages/torch/utils/data/dataloader.py:481: UserWarning: This DataLoader will create 4 worker processes in total. Our suggested max number of worker in current system is 2, which is smaller than what this DataLoader is going to create. Please be aware that excessive worker creation might get DataLoader running slow or even freeze, lower the worker number to avoid potential slowness/freeze if necessary.\n",
            "  cpuset_checked))\n"
          ]
        },
        {
          "output_type": "stream",
          "name": "stdout",
          "text": [
            "Epoch 2 step 39 ave_loss 0.0386\n",
            "Epoch 2 step 79 ave_loss 0.0875\n",
            "Epoch 2 step 119 ave_loss 0.0184\n",
            "Epoch 2 step 159 ave_loss 0.0697\n",
            "Epoch 2 step 199 ave_loss 0.0300\n",
            "              precision    recall  f1-score   support\n",
            "\n",
            "          2C       0.70      0.83      0.76       409\n",
            "          3C       0.75      0.93      0.83       367\n",
            "          4C       1.00      0.81      0.89       831\n",
            "\n",
            "    accuracy                           0.84      1607\n",
            "   macro avg       0.82      0.85      0.83      1607\n",
            "weighted avg       0.87      0.84      0.85      1607\n",
            "\n",
            "---------------------------------------------------------------\n"
          ]
        },
        {
          "output_type": "stream",
          "name": "stderr",
          "text": [
            "/usr/local/lib/python3.7/dist-packages/torch/utils/data/dataloader.py:481: UserWarning: This DataLoader will create 4 worker processes in total. Our suggested max number of worker in current system is 2, which is smaller than what this DataLoader is going to create. Please be aware that excessive worker creation might get DataLoader running slow or even freeze, lower the worker number to avoid potential slowness/freeze if necessary.\n",
            "  cpuset_checked))\n"
          ]
        },
        {
          "output_type": "stream",
          "name": "stdout",
          "text": [
            "Epoch 3 step 39 ave_loss 0.0052\n",
            "Epoch 3 step 79 ave_loss 0.0208\n",
            "Epoch 3 step 119 ave_loss 0.0398\n",
            "Epoch 3 step 159 ave_loss 0.0151\n",
            "Epoch 3 step 199 ave_loss 0.0168\n",
            "              precision    recall  f1-score   support\n",
            "\n",
            "          2C       0.84      0.79      0.82       409\n",
            "          3C       0.78      0.97      0.86       367\n",
            "          4C       1.00      0.92      0.96       831\n",
            "\n",
            "    accuracy                           0.90      1607\n",
            "   macro avg       0.87      0.89      0.88      1607\n",
            "weighted avg       0.91      0.90      0.90      1607\n",
            "\n",
            "---------------------------------------------------------------\n"
          ]
        },
        {
          "output_type": "stream",
          "name": "stderr",
          "text": [
            "/usr/local/lib/python3.7/dist-packages/torch/utils/data/dataloader.py:481: UserWarning: This DataLoader will create 4 worker processes in total. Our suggested max number of worker in current system is 2, which is smaller than what this DataLoader is going to create. Please be aware that excessive worker creation might get DataLoader running slow or even freeze, lower the worker number to avoid potential slowness/freeze if necessary.\n",
            "  cpuset_checked))\n"
          ]
        },
        {
          "output_type": "stream",
          "name": "stdout",
          "text": [
            "Epoch 4 step 39 ave_loss 0.0018\n",
            "Epoch 4 step 79 ave_loss 0.0003\n",
            "Epoch 4 step 119 ave_loss 0.0149\n",
            "Epoch 4 step 159 ave_loss 0.0022\n",
            "Epoch 4 step 199 ave_loss 0.0001\n",
            "              precision    recall  f1-score   support\n",
            "\n",
            "          2C       0.87      0.87      0.87       409\n",
            "          3C       0.82      0.94      0.88       367\n",
            "          4C       1.00      0.94      0.97       831\n",
            "\n",
            "    accuracy                           0.92      1607\n",
            "   macro avg       0.90      0.92      0.91      1607\n",
            "weighted avg       0.93      0.92      0.92      1607\n",
            "\n",
            "---------------------------------------------------------------\n"
          ]
        },
        {
          "output_type": "stream",
          "name": "stderr",
          "text": [
            "/usr/local/lib/python3.7/dist-packages/torch/utils/data/dataloader.py:481: UserWarning: This DataLoader will create 4 worker processes in total. Our suggested max number of worker in current system is 2, which is smaller than what this DataLoader is going to create. Please be aware that excessive worker creation might get DataLoader running slow or even freeze, lower the worker number to avoid potential slowness/freeze if necessary.\n",
            "  cpuset_checked))\n"
          ]
        },
        {
          "output_type": "stream",
          "name": "stdout",
          "text": [
            "Epoch 5 step 39 ave_loss 0.0003\n",
            "Epoch 5 step 79 ave_loss 0.0001\n",
            "Epoch 5 step 119 ave_loss 0.0001\n",
            "Epoch 5 step 159 ave_loss 0.0000\n",
            "Epoch 5 step 199 ave_loss 0.0001\n",
            "              precision    recall  f1-score   support\n",
            "\n",
            "          2C       0.85      0.85      0.85       409\n",
            "          3C       0.84      0.94      0.89       367\n",
            "          4C       1.00      0.95      0.98       831\n",
            "\n",
            "    accuracy                           0.92      1607\n",
            "   macro avg       0.90      0.91      0.90      1607\n",
            "weighted avg       0.93      0.92      0.92      1607\n",
            "\n",
            "---------------------------------------------------------------\n"
          ]
        },
        {
          "output_type": "stream",
          "name": "stderr",
          "text": [
            "/usr/local/lib/python3.7/dist-packages/torch/utils/data/dataloader.py:481: UserWarning: This DataLoader will create 4 worker processes in total. Our suggested max number of worker in current system is 2, which is smaller than what this DataLoader is going to create. Please be aware that excessive worker creation might get DataLoader running slow or even freeze, lower the worker number to avoid potential slowness/freeze if necessary.\n",
            "  cpuset_checked))\n"
          ]
        },
        {
          "output_type": "stream",
          "name": "stdout",
          "text": [
            "Epoch 6 step 39 ave_loss 0.0001\n",
            "Epoch 6 step 79 ave_loss 0.0001\n",
            "Epoch 6 step 119 ave_loss 0.0000\n",
            "Epoch 6 step 159 ave_loss 0.0000\n",
            "Epoch 6 step 199 ave_loss 0.0001\n",
            "              precision    recall  f1-score   support\n",
            "\n",
            "          2C       0.86      0.85      0.85       409\n",
            "          3C       0.85      0.94      0.89       367\n",
            "          4C       1.00      0.95      0.98       831\n",
            "\n",
            "    accuracy                           0.93      1607\n",
            "   macro avg       0.90      0.92      0.91      1607\n",
            "weighted avg       0.93      0.93      0.93      1607\n",
            "\n",
            "---------------------------------------------------------------\n"
          ]
        },
        {
          "output_type": "stream",
          "name": "stderr",
          "text": [
            "/usr/local/lib/python3.7/dist-packages/torch/utils/data/dataloader.py:481: UserWarning: This DataLoader will create 4 worker processes in total. Our suggested max number of worker in current system is 2, which is smaller than what this DataLoader is going to create. Please be aware that excessive worker creation might get DataLoader running slow or even freeze, lower the worker number to avoid potential slowness/freeze if necessary.\n",
            "  cpuset_checked))\n"
          ]
        },
        {
          "output_type": "stream",
          "name": "stdout",
          "text": [
            "Epoch 7 step 39 ave_loss 0.0001\n",
            "Epoch 7 step 79 ave_loss 0.0000\n",
            "Epoch 7 step 119 ave_loss 0.0000\n",
            "Epoch 7 step 159 ave_loss 0.0001\n",
            "Epoch 7 step 199 ave_loss 0.0001\n",
            "              precision    recall  f1-score   support\n",
            "\n",
            "          2C       0.86      0.85      0.85       409\n",
            "          3C       0.85      0.94      0.89       367\n",
            "          4C       1.00      0.95      0.98       831\n",
            "\n",
            "    accuracy                           0.93      1607\n",
            "   macro avg       0.90      0.92      0.91      1607\n",
            "weighted avg       0.93      0.93      0.93      1607\n",
            "\n",
            "model: vgg16 , size: 64\n",
            "accr:  [83, 75, 84, 89, 92, 92, 92, 92]\n",
            "loss:  [0.3967, 0.0328, 0.0032, 0.0013, 0.0007, 0.0, 0.0, 0.0]\n",
            "image size:  torch.Size([3, 32, 32])\n",
            "device: cuda\n",
            "model: vgg16\n"
          ]
        },
        {
          "output_type": "stream",
          "name": "stderr",
          "text": [
            "/usr/local/lib/python3.7/dist-packages/torch/utils/data/dataloader.py:481: UserWarning: This DataLoader will create 4 worker processes in total. Our suggested max number of worker in current system is 2, which is smaller than what this DataLoader is going to create. Please be aware that excessive worker creation might get DataLoader running slow or even freeze, lower the worker number to avoid potential slowness/freeze if necessary.\n",
            "  cpuset_checked))\n"
          ]
        },
        {
          "output_type": "stream",
          "name": "stdout",
          "text": [
            "---------------------------------------------------------------\n",
            "Epoch 0 step 39 ave_loss 1.0698\n",
            "Epoch 0 step 79 ave_loss 1.0850\n",
            "Epoch 0 step 119 ave_loss 0.9042\n",
            "Epoch 0 step 159 ave_loss 0.6678\n",
            "Epoch 0 step 199 ave_loss 0.4758\n",
            "              precision    recall  f1-score   support\n",
            "\n",
            "          2C       0.51      0.90      0.65       409\n",
            "          3C       0.83      0.79      0.81       367\n",
            "          4C       1.00      0.65      0.79       831\n",
            "\n",
            "    accuracy                           0.75      1607\n",
            "   macro avg       0.78      0.78      0.75      1607\n",
            "weighted avg       0.84      0.75      0.76      1607\n",
            "\n",
            "---------------------------------------------------------------\n"
          ]
        },
        {
          "output_type": "stream",
          "name": "stderr",
          "text": [
            "/usr/local/lib/python3.7/dist-packages/torch/utils/data/dataloader.py:481: UserWarning: This DataLoader will create 4 worker processes in total. Our suggested max number of worker in current system is 2, which is smaller than what this DataLoader is going to create. Please be aware that excessive worker creation might get DataLoader running slow or even freeze, lower the worker number to avoid potential slowness/freeze if necessary.\n",
            "  cpuset_checked))\n"
          ]
        },
        {
          "output_type": "stream",
          "name": "stdout",
          "text": [
            "Epoch 1 step 39 ave_loss 0.2750\n",
            "Epoch 1 step 79 ave_loss 0.2145\n",
            "Epoch 1 step 119 ave_loss 0.1709\n",
            "Epoch 1 step 159 ave_loss 0.1934\n",
            "Epoch 1 step 199 ave_loss 0.1678\n",
            "              precision    recall  f1-score   support\n",
            "\n",
            "          2C       0.53      0.72      0.61       409\n",
            "          3C       0.60      0.93      0.73       367\n",
            "          4C       1.00      0.57      0.73       831\n",
            "\n",
            "    accuracy                           0.69      1607\n",
            "   macro avg       0.71      0.74      0.69      1607\n",
            "weighted avg       0.79      0.69      0.70      1607\n",
            "\n",
            "---------------------------------------------------------------\n"
          ]
        },
        {
          "output_type": "stream",
          "name": "stderr",
          "text": [
            "/usr/local/lib/python3.7/dist-packages/torch/utils/data/dataloader.py:481: UserWarning: This DataLoader will create 4 worker processes in total. Our suggested max number of worker in current system is 2, which is smaller than what this DataLoader is going to create. Please be aware that excessive worker creation might get DataLoader running slow or even freeze, lower the worker number to avoid potential slowness/freeze if necessary.\n",
            "  cpuset_checked))\n"
          ]
        },
        {
          "output_type": "stream",
          "name": "stdout",
          "text": [
            "Epoch 2 step 39 ave_loss 0.1321\n",
            "Epoch 2 step 79 ave_loss 0.0836\n",
            "Epoch 2 step 119 ave_loss 0.0484\n",
            "Epoch 2 step 159 ave_loss 0.0463\n",
            "Epoch 2 step 199 ave_loss 0.0127\n",
            "              precision    recall  f1-score   support\n",
            "\n",
            "          2C       0.67      0.83      0.74       409\n",
            "          3C       0.64      0.88      0.74       367\n",
            "          4C       0.99      0.72      0.83       831\n",
            "\n",
            "    accuracy                           0.78      1607\n",
            "   macro avg       0.77      0.81      0.77      1607\n",
            "weighted avg       0.83      0.78      0.79      1607\n",
            "\n",
            "---------------------------------------------------------------\n"
          ]
        },
        {
          "output_type": "stream",
          "name": "stderr",
          "text": [
            "/usr/local/lib/python3.7/dist-packages/torch/utils/data/dataloader.py:481: UserWarning: This DataLoader will create 4 worker processes in total. Our suggested max number of worker in current system is 2, which is smaller than what this DataLoader is going to create. Please be aware that excessive worker creation might get DataLoader running slow or even freeze, lower the worker number to avoid potential slowness/freeze if necessary.\n",
            "  cpuset_checked))\n"
          ]
        },
        {
          "output_type": "stream",
          "name": "stdout",
          "text": [
            "Epoch 3 step 39 ave_loss 0.0022\n",
            "Epoch 3 step 79 ave_loss 0.0499\n",
            "Epoch 3 step 119 ave_loss 0.0489\n",
            "Epoch 3 step 159 ave_loss 0.0502\n",
            "Epoch 3 step 199 ave_loss 0.0251\n",
            "              precision    recall  f1-score   support\n",
            "\n",
            "          2C       0.81      0.87      0.84       409\n",
            "          3C       0.63      0.94      0.76       367\n",
            "          4C       1.00      0.75      0.86       831\n",
            "\n",
            "    accuracy                           0.82      1607\n",
            "   macro avg       0.82      0.85      0.82      1607\n",
            "weighted avg       0.87      0.82      0.83      1607\n",
            "\n",
            "---------------------------------------------------------------\n"
          ]
        },
        {
          "output_type": "stream",
          "name": "stderr",
          "text": [
            "/usr/local/lib/python3.7/dist-packages/torch/utils/data/dataloader.py:481: UserWarning: This DataLoader will create 4 worker processes in total. Our suggested max number of worker in current system is 2, which is smaller than what this DataLoader is going to create. Please be aware that excessive worker creation might get DataLoader running slow or even freeze, lower the worker number to avoid potential slowness/freeze if necessary.\n",
            "  cpuset_checked))\n"
          ]
        },
        {
          "output_type": "stream",
          "name": "stdout",
          "text": [
            "Epoch 4 step 39 ave_loss 0.0112\n",
            "Epoch 4 step 79 ave_loss 0.0016\n",
            "Epoch 4 step 119 ave_loss 0.0061\n",
            "Epoch 4 step 159 ave_loss 0.0011\n",
            "Epoch 4 step 199 ave_loss 0.0160\n",
            "              precision    recall  f1-score   support\n",
            "\n",
            "          2C       0.76      0.80      0.78       409\n",
            "          3C       0.60      0.94      0.74       367\n",
            "          4C       1.00      0.73      0.84       831\n",
            "\n",
            "    accuracy                           0.80      1607\n",
            "   macro avg       0.79      0.82      0.79      1607\n",
            "weighted avg       0.85      0.80      0.80      1607\n",
            "\n",
            "---------------------------------------------------------------\n"
          ]
        },
        {
          "output_type": "stream",
          "name": "stderr",
          "text": [
            "/usr/local/lib/python3.7/dist-packages/torch/utils/data/dataloader.py:481: UserWarning: This DataLoader will create 4 worker processes in total. Our suggested max number of worker in current system is 2, which is smaller than what this DataLoader is going to create. Please be aware that excessive worker creation might get DataLoader running slow or even freeze, lower the worker number to avoid potential slowness/freeze if necessary.\n",
            "  cpuset_checked))\n"
          ]
        },
        {
          "output_type": "stream",
          "name": "stdout",
          "text": [
            "Epoch 5 step 39 ave_loss 0.0298\n",
            "Epoch 5 step 79 ave_loss 0.0095\n",
            "Epoch 5 step 119 ave_loss 0.0007\n",
            "Epoch 5 step 159 ave_loss 0.0001\n",
            "Epoch 5 step 199 ave_loss 0.0000\n",
            "              precision    recall  f1-score   support\n",
            "\n",
            "          2C       0.70      0.94      0.80       409\n",
            "          3C       0.78      0.92      0.84       367\n",
            "          4C       1.00      0.75      0.86       831\n",
            "\n",
            "    accuracy                           0.84      1607\n",
            "   macro avg       0.83      0.87      0.83      1607\n",
            "weighted avg       0.87      0.84      0.84      1607\n",
            "\n",
            "---------------------------------------------------------------\n"
          ]
        },
        {
          "output_type": "stream",
          "name": "stderr",
          "text": [
            "/usr/local/lib/python3.7/dist-packages/torch/utils/data/dataloader.py:481: UserWarning: This DataLoader will create 4 worker processes in total. Our suggested max number of worker in current system is 2, which is smaller than what this DataLoader is going to create. Please be aware that excessive worker creation might get DataLoader running slow or even freeze, lower the worker number to avoid potential slowness/freeze if necessary.\n",
            "  cpuset_checked))\n"
          ]
        },
        {
          "output_type": "stream",
          "name": "stdout",
          "text": [
            "Epoch 6 step 39 ave_loss 0.0000\n",
            "Epoch 6 step 79 ave_loss 0.0000\n",
            "Epoch 6 step 119 ave_loss 0.0000\n",
            "Epoch 6 step 159 ave_loss 0.0001\n",
            "Epoch 6 step 199 ave_loss 0.0001\n",
            "              precision    recall  f1-score   support\n",
            "\n",
            "          2C       0.71      0.93      0.80       409\n",
            "          3C       0.76      0.92      0.83       367\n",
            "          4C       1.00      0.75      0.86       831\n",
            "\n",
            "    accuracy                           0.84      1607\n",
            "   macro avg       0.82      0.87      0.83      1607\n",
            "weighted avg       0.87      0.84      0.84      1607\n",
            "\n",
            "---------------------------------------------------------------\n"
          ]
        },
        {
          "output_type": "stream",
          "name": "stderr",
          "text": [
            "/usr/local/lib/python3.7/dist-packages/torch/utils/data/dataloader.py:481: UserWarning: This DataLoader will create 4 worker processes in total. Our suggested max number of worker in current system is 2, which is smaller than what this DataLoader is going to create. Please be aware that excessive worker creation might get DataLoader running slow or even freeze, lower the worker number to avoid potential slowness/freeze if necessary.\n",
            "  cpuset_checked))\n"
          ]
        },
        {
          "output_type": "stream",
          "name": "stdout",
          "text": [
            "Epoch 7 step 39 ave_loss 0.0001\n",
            "Epoch 7 step 79 ave_loss 0.0001\n",
            "Epoch 7 step 119 ave_loss 0.0000\n",
            "Epoch 7 step 159 ave_loss 0.0001\n",
            "Epoch 7 step 199 ave_loss 0.0001\n",
            "              precision    recall  f1-score   support\n",
            "\n",
            "          2C       0.71      0.93      0.81       409\n",
            "          3C       0.76      0.93      0.84       367\n",
            "          4C       1.00      0.76      0.86       831\n",
            "\n",
            "    accuracy                           0.84      1607\n",
            "   macro avg       0.82      0.87      0.83      1607\n",
            "weighted avg       0.87      0.84      0.84      1607\n",
            "\n",
            "model: vgg16 , size: 32\n",
            "accr:  [74, 69, 78, 82, 79, 83, 83, 83]\n",
            "loss:  [0.2371, 0.0719, 0.005, 0.0117, 0.0015, 0.0, 0.0, 0.0001]\n"
          ]
        },
        {
          "output_type": "error",
          "ename": "AttributeError",
          "evalue": "ignored",
          "traceback": [
            "\u001b[0;31m---------------------------------------------------------------------------\u001b[0m",
            "\u001b[0;31mAttributeError\u001b[0m                            Traceback (most recent call last)",
            "\u001b[0;32m<ipython-input-14-b50c6302b6e8>\u001b[0m in \u001b[0;36m<module>\u001b[0;34m()\u001b[0m\n\u001b[1;32m      4\u001b[0m \u001b[0mfig\u001b[0m \u001b[0;34m=\u001b[0m \u001b[0mplt\u001b[0m\u001b[0;34m.\u001b[0m\u001b[0mfigure\u001b[0m\u001b[0;34m(\u001b[0m\u001b[0mfigsize\u001b[0m\u001b[0;34m=\u001b[0m\u001b[0;34m(\u001b[0m\u001b[0;36m20\u001b[0m\u001b[0;34m,\u001b[0m\u001b[0;36m10\u001b[0m\u001b[0;34m)\u001b[0m\u001b[0;34m)\u001b[0m\u001b[0;34m\u001b[0m\u001b[0;34m\u001b[0m\u001b[0m\n\u001b[1;32m      5\u001b[0m \u001b[0mplt\u001b[0m\u001b[0;34m.\u001b[0m\u001b[0mtitle\u001b[0m\u001b[0;34m(\u001b[0m\u001b[0;34m\"Train-Test Accuracy\"\u001b[0m\u001b[0;34m)\u001b[0m\u001b[0;34m\u001b[0m\u001b[0;34m\u001b[0m\u001b[0m\n\u001b[0;32m----> 6\u001b[0;31m \u001b[0mplt\u001b[0m\u001b[0;34m.\u001b[0m\u001b[0mplot\u001b[0m\u001b[0;34m(\u001b[0m\u001b[0mmodel1\u001b[0m\u001b[0;34m.\u001b[0m\u001b[0maccuracies\u001b[0m\u001b[0;34m,\u001b[0m \u001b[0mlabel\u001b[0m\u001b[0;34m=\u001b[0m\u001b[0;34m'224x224'\u001b[0m\u001b[0;34m)\u001b[0m\u001b[0;34m\u001b[0m\u001b[0;34m\u001b[0m\u001b[0m\n\u001b[0m\u001b[1;32m      7\u001b[0m \u001b[0mplt\u001b[0m\u001b[0;34m.\u001b[0m\u001b[0mplot\u001b[0m\u001b[0;34m(\u001b[0m\u001b[0mmodel2\u001b[0m\u001b[0;34m.\u001b[0m\u001b[0maccuracies\u001b[0m\u001b[0;34m,\u001b[0m \u001b[0mlabel\u001b[0m\u001b[0;34m=\u001b[0m\u001b[0;34m'64x64'\u001b[0m\u001b[0;34m)\u001b[0m\u001b[0;34m\u001b[0m\u001b[0;34m\u001b[0m\u001b[0m\n\u001b[1;32m      8\u001b[0m \u001b[0mplt\u001b[0m\u001b[0;34m.\u001b[0m\u001b[0mplot\u001b[0m\u001b[0;34m(\u001b[0m\u001b[0mmodel3\u001b[0m\u001b[0;34m.\u001b[0m\u001b[0maccuracies\u001b[0m\u001b[0;34m,\u001b[0m \u001b[0mlabel\u001b[0m\u001b[0;34m=\u001b[0m\u001b[0;34m'32x32'\u001b[0m\u001b[0;34m)\u001b[0m\u001b[0;34m\u001b[0m\u001b[0;34m\u001b[0m\u001b[0m\n",
            "\u001b[0;32m/usr/local/lib/python3.7/dist-packages/torch/nn/modules/module.py\u001b[0m in \u001b[0;36m__getattr__\u001b[0;34m(self, name)\u001b[0m\n\u001b[1;32m   1176\u001b[0m                 \u001b[0;32mreturn\u001b[0m \u001b[0mmodules\u001b[0m\u001b[0;34m[\u001b[0m\u001b[0mname\u001b[0m\u001b[0;34m]\u001b[0m\u001b[0;34m\u001b[0m\u001b[0;34m\u001b[0m\u001b[0m\n\u001b[1;32m   1177\u001b[0m         raise AttributeError(\"'{}' object has no attribute '{}'\".format(\n\u001b[0;32m-> 1178\u001b[0;31m             type(self).__name__, name))\n\u001b[0m\u001b[1;32m   1179\u001b[0m \u001b[0;34m\u001b[0m\u001b[0m\n\u001b[1;32m   1180\u001b[0m     \u001b[0;32mdef\u001b[0m \u001b[0m__setattr__\u001b[0m\u001b[0;34m(\u001b[0m\u001b[0mself\u001b[0m\u001b[0;34m,\u001b[0m \u001b[0mname\u001b[0m\u001b[0;34m:\u001b[0m \u001b[0mstr\u001b[0m\u001b[0;34m,\u001b[0m \u001b[0mvalue\u001b[0m\u001b[0;34m:\u001b[0m \u001b[0mUnion\u001b[0m\u001b[0;34m[\u001b[0m\u001b[0mTensor\u001b[0m\u001b[0;34m,\u001b[0m \u001b[0;34m'Module'\u001b[0m\u001b[0;34m]\u001b[0m\u001b[0;34m)\u001b[0m \u001b[0;34m->\u001b[0m \u001b[0;32mNone\u001b[0m\u001b[0;34m:\u001b[0m\u001b[0;34m\u001b[0m\u001b[0;34m\u001b[0m\u001b[0m\n",
            "\u001b[0;31mAttributeError\u001b[0m: 'VGG' object has no attribute 'accuracies'"
          ]
        },
        {
          "output_type": "display_data",
          "data": {
            "image/png": "[encoded data removed]",
            "text/plain": [
              "<Figure size 1440x720 with 1 Axes>"
            ]
          },
          "metadata": {
            "needs_background": "light"
          }
        }
      ]
    }
  ]
}