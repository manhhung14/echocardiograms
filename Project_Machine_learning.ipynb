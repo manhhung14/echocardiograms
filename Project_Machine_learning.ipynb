{
  "nbformat": 4,
  "nbformat_minor": 0,
  "metadata": {
    "colab": {
      "name": "Project_Machine_learning.ipynb",
      "provenance": [],
      "authorship_tag": "ABX9TyPgHX5Fcl1TNbrz7VA8f1bO",
      "include_colab_link": true
    },
    "kernelspec": {
      "name": "python3",
      "display_name": "Python 3"
    },
    "language_info": {
      "name": "python"
    },
    "accelerator": "GPU"
  },
  "cells": [
    {
      "cell_type": "markdown",
      "metadata": {
        "id": "view-in-github",
        "colab_type": "text"
      },
      "source": [
        "<a href=\"https://colab.research.google.com/github/manhhung14/echocardiograms/blob/main/Project_Machine_learning.ipynb\" target=\"_parent\"><img src=\"https://colab.research.google.com/assets/colab-badge.svg\" alt=\"Open In Colab\"/></a>"
      ]
    },
    {
      "cell_type": "markdown",
      "metadata": {
        "id": "T7xNknYpXANm"
      },
      "source": [
        "**Khởi tạo thư viện**"
      ]
    },
    {
      "cell_type": "code",
      "metadata": {
        "id": "yIcjmePpg7ov"
      },
      "source": [
        "import cv2\n",
        "import numpy as np\n",
        "from matplotlib import pyplot as plt\n",
        "from collections import namedtuple\n",
        "from sklearn.metrics import classification_report\n",
        "import torchvision\n",
        "from torchvision import transforms\n",
        "from torchvision.datasets import ImageFolder\n",
        "import torch\n",
        "from torch import nn\n",
        "from torch.utils.data import DataLoader\n"
      ],
      "execution_count": null,
      "outputs": []
    },
    {
      "cell_type": "markdown",
      "metadata": {
        "id": "BmA9jhQ5Wzs8"
      },
      "source": [
        "**Lấy dữ liệu**"
      ]
    },
    {
      "cell_type": "code",
      "metadata": {
        "colab": {
          "base_uri": "https://localhost:8080/"
        },
        "id": "vHs1MKuLhLXb",
        "outputId": "141ad888-ea9a-489f-dde2-d3ff59039fe7"
      },
      "source": [
        "!git clone https://github.com/manhhung14/echocardiograms\n",
        "traindir = \"/content/echocardiograms/DATA_CHAMBER_2021/train\"\n",
        "testdir = \"/content/echocardiograms/DATA_CHAMBER_2021/test\""
      ],
      "execution_count": null,
      "outputs": [
        {
          "output_type": "stream",
          "name": "stdout",
          "text": [
            "Cloning into 'echocardiograms'...\n",
            "remote: Enumerating objects: 8344, done.\u001b[K\n",
            "remote: Counting objects: 100% (16/16), done.\u001b[K\n",
            "remote: Compressing objects: 100% (15/15), done.\u001b[K\n",
            "remote: Total 8344 (delta 1), reused 11 (delta 0), pack-reused 8328\u001b[K\n",
            "Receiving objects: 100% (8344/8344), 488.03 MiB | 34.63 MiB/s, done.\n",
            "Resolving deltas: 100% (3/3), done.\n",
            "Checking out files: 100% (8328/8328), done.\n"
          ]
        }
      ]
    },
    {
      "cell_type": "markdown",
      "metadata": {
        "id": "Pny082LFXN8H"
      },
      "source": [
        "**Chuẩn bị dữ liệu**"
      ]
    },
    {
      "cell_type": "code",
      "metadata": {
        "id": "nUdzNQPBhRAq"
      },
      "source": [
        "TrainTest = namedtuple('TrainTest', ['train', 'test'])\n",
        "\n",
        "def get_classes():\n",
        "  classes = ['2C', '3C', '4C']\n",
        "  return classes\n",
        "\n",
        "def raw_image(size):\n",
        "  transform_train = transforms.Compose([\n",
        "    transforms.Resize(size=(size,size)),\n",
        "    transforms.ToTensor()\n",
        "  ])\n",
        "  transform_test = transforms.Compose([\n",
        "    transforms.Resize(size=(size,size)), \n",
        "    transforms.ToTensor()\n",
        "  ])\n",
        "  return transform_train, transform_test\n",
        "\n",
        "def preprocess_image(size):\n",
        "  transform_train = transforms.Compose([\n",
        "    transforms.Resize(size=(size,size)),\n",
        "    transforms.RandomEqualize(p=0.5),\n",
        "    transforms.GaussianBlur(kernel_size=3),\n",
        "    transforms.ToTensor()\n",
        "    ])\n",
        "  transform_test = transforms.Compose([\n",
        "    transforms.Resize(size=(size,size)),\n",
        "    transforms.RandomEqualize(p=0.5),\n",
        "    transforms.GaussianBlur(kernel_size=3), \n",
        "    transforms.ToTensor()\n",
        "  ])\n",
        "  return transform_train, transform_test\n",
        "\n",
        "def augmentation_image(size):\n",
        "  transform_train = transforms.Compose([\n",
        "    transforms.Resize(size=(size,size)),\n",
        "    transforms.RandomHorizontalFlip(),\n",
        "    transforms.RandomVerticalFlip(),\n",
        "    transforms.RandomRotation(degrees=10),\n",
        "    transforms.ToTensor()\n",
        "  ])\n",
        "  transform_test = transforms.Compose([\n",
        "    transforms.Resize(size=(size,size)),\n",
        "    transforms.RandomHorizontalFlip(),\n",
        "    transforms.RandomVerticalFlip(),\n",
        "    transforms.RandomRotation(degrees=10), \n",
        "    transforms.ToTensor()\n",
        "  ])\n",
        "  return transform_train, transform_test\n",
        "\n",
        "def prepare_data(size):\n",
        "  #transform_train, transform_test = raw_image(size)\n",
        "  # transform_train, transform_test = preprocess_image(size)\n",
        "  transform_train, transform_test = augmentation_image(size)\n",
        "  trainset = torchvision.datasets.ImageFolder(root=traindir, transform=transform_train)\n",
        "  testset = torchvision.datasets.ImageFolder(root=testdir, transform=transform_test)\n",
        "  return TrainTest(train=trainset, test=testset)\n",
        "\n",
        "def prepare_loader(datasets):\n",
        "  trainloader = DataLoader(dataset=datasets.train, batch_size=32, shuffle=True, num_workers=4)\n",
        "  testloader = DataLoader(dataset=datasets.test, batch_size=32, shuffle=False, num_workers=4)\n",
        "  return TrainTest(train=trainloader, test=testloader)\n",
        "\n"
      ],
      "execution_count": null,
      "outputs": []
    },
    {
      "cell_type": "markdown",
      "metadata": {
        "id": "NzuDKJrVXRMR"
      },
      "source": [
        "**Train & Test**"
      ]
    },
    {
      "cell_type": "code",
      "metadata": {
        "id": "8s-lzzfTr2pm"
      },
      "source": [
        "def train_epoch(epoch, model, loader, loss_func, optimizer, device):\n",
        "  model.train()\n",
        "  running_loss = 0.0\n",
        "  final_loss = 0.0\n",
        "  reporting_steps = 40\n",
        "  step = 0\n",
        "  for images, labels in loader:\n",
        "    step += 1\n",
        "    images, labels = images.to(device), labels.to(device)\n",
        "    outputs = model(images)\n",
        "    loss = loss_func(outputs, labels)\n",
        "\n",
        "    optimizer.zero_grad()\n",
        "    loss.backward()\n",
        "    optimizer.step()\n",
        "\n",
        "    final_loss = loss.item()\n",
        "    running_loss += final_loss\n",
        "    if step % reporting_steps == reporting_steps - 1:\n",
        "      print(f\"Epoch {epoch} step {step} ave_loss {running_loss/reporting_steps:.4f}\")\n",
        "      running_loss = 0.0\n",
        "  return final_loss\n",
        "\n",
        "def test_epoch(epoch, model, loader, device):\n",
        "  ytrue = []\n",
        "  ypred = []\n",
        "  with torch.no_grad():\n",
        "    model.eval()\n",
        "    for images, labels in loader:\n",
        "      images, labels = images.to(device), labels.to(device)\n",
        "      outputs = model(images)\n",
        "      _, predicted = torch.max(outputs, dim=1)\n",
        "      ytrue += list(labels.cpu().numpy())\n",
        "      ypred += list(predicted.cpu().numpy())\n",
        "\n",
        "  return ypred, ytrue\n"
      ],
      "execution_count": null,
      "outputs": []
    },
    {
      "cell_type": "markdown",
      "metadata": {
        "id": "rG6-HBgXXaHN"
      },
      "source": [
        "**Thực thi**"
      ]
    },
    {
      "cell_type": "code",
      "metadata": {
        "id": "X7INPZlyr__3"
      },
      "source": [
        "def main(model_in, size):\n",
        "  PATH = \"./\" + model_in + '.pth'\n",
        "  classes = get_classes()\n",
        "  class_out = len(classes)\n",
        "\n",
        "  #transforms_train, transforms_test = raw_image(size)\n",
        "  #transforms_train, transforms_test = preprocess_image(size)\n",
        "  transforms_train, transforms_test = augmentation_image(size)\n",
        "  datasets = prepare_data(size=size)\n",
        "  loaders = prepare_loader(datasets)\n",
        "  device = torch.device(\"cuda\" if torch.cuda.is_available() else \"cpu\")\n",
        "\n",
        "  print(\"image size: \", datasets.train[0][0].shape)\n",
        "  print(\"device:\", device)\n",
        "  print(\"model:\", model_in)\n",
        "\n",
        "  if model_in == 'vgg16':  \n",
        "    model = torchvision.models.vgg16(pretrained=False)\n",
        "    model.classifier[6] = torch.nn.modules.linear.Linear(in_features=4096, out_features=class_out, bias=True)\n",
        "  elif model_in == 'resnet50':\n",
        "    model = torchvision.models.resnet50(pretrained=False)\n",
        "    model.fc = torch.nn.modules.linear.Linear(in_features=2048, out_features=class_out, bias=True) \n",
        "  elif model_in == 'resnet18':\n",
        "    model = torchvision.models.resnet18(pretrained=False)\n",
        "    model.fc = torch.nn.modules.linear.Linear(in_features=512, out_features=class_out, bias=True) \n",
        "  elif model_in == 'densenet121': \n",
        "    model = torchvision.models.densenet121(pretrained=False)\n",
        "    model.classifier = torch.nn.modules.linear.Linear(in_features=1024, out_features=class_out, bias=True)\n",
        "  else:\n",
        "    pass\n",
        "    \n",
        "  model.to(device)\n",
        "  loss_func = nn.CrossEntropyLoss()\n",
        "  optimizer = torch.optim.SGD(model.parameters(), lr=0.01, momentum=0.9, weight_decay=5e-4)\n",
        "\n",
        "  accuracies = []\n",
        "  losses = []\n",
        "  for epoch in range(10):\n",
        "    print(\"---------------------------------------------------------------\")\n",
        "    loss = train_epoch(epoch, model, loaders.train, loss_func, optimizer, device)\n",
        "    ypred_test, ytrue_test = test_epoch(epoch, model, loaders.test, device)\n",
        "\n",
        "    print(classification_report(ytrue_test, ypred_test, target_names=classes))\n",
        "    torch.save(model.state_dict(), PATH)\n",
        "\n",
        "    # calculate report\n",
        "    ypred_test = np.array(ypred_test)\n",
        "    ytrue_test = np.array(ytrue_test)\n",
        "    accuracy = int((ytrue_test==ypred_test).sum() / len(ytrue_test) *100)\n",
        "    accuracies.append(accuracy)\n",
        "    losses.append(round(loss, 4))\n",
        "\n",
        "    \n",
        "  print(\"model:\", model_in, \", size:\", size)\n",
        "  print(\"accr: \", accuracies)\n",
        "  print(\"loss: \", losses)\n",
        "  return model"
      ],
      "execution_count": null,
      "outputs": []
    },
    {
      "cell_type": "code",
      "metadata": {
        "id": "wdIP60kF9-pr"
      },
      "source": [
        "model1 = main('resnet50', 224)\n",
        "#model2 = main('resnet50', 64)\n",
        "#model3 = main('resnet50', 32)\n",
        "\n"
      ],
      "execution_count": null,
      "outputs": []
    }
  ]
}